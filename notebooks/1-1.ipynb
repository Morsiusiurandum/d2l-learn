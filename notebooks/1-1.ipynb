{
 "cells": [
  {
   "cell_type": "markdown",
   "id": "11c992b656b2d46a",
   "metadata": {},
   "source": [
    "# 预备知识"
   ]
  },
  {
   "cell_type": "markdown",
   "id": "8a77807f92f26ee",
   "metadata": {},
   "source": [
    "- 对张量的基本操作"
   ]
  },
  {
   "cell_type": "code",
   "execution_count": null,
   "id": "fbc121e30a2defb3",
   "metadata": {
    "ExecuteTime": {
     "end_time": "2024-07-01T08:38:38.010297Z",
     "start_time": "2024-07-01T08:38:38.003128Z"
    }
   },
   "outputs": [],
   "source": [
    "import torch\n",
    "\n",
    "x = torch.arange(12)\n",
    "x"
   ]
  },
  {
   "cell_type": "code",
   "execution_count": null,
   "id": "96ed6a697d527122",
   "metadata": {
    "ExecuteTime": {
     "end_time": "2024-07-01T08:38:38.016879Z",
     "start_time": "2024-07-01T08:38:38.011307Z"
    }
   },
   "outputs": [],
   "source": [
    "x.reshape(3, 4)"
   ]
  },
  {
   "cell_type": "markdown",
   "id": "be75215a4ed0e340",
   "metadata": {},
   "source": [
    "- 使用特定发布初始化张量\n"
   ]
  },
  {
   "cell_type": "code",
   "execution_count": null,
   "id": "b1fbbe0229efb170",
   "metadata": {
    "ExecuteTime": {
     "end_time": "2024-07-01T08:38:38.033234Z",
     "start_time": "2024-07-01T08:38:38.027886Z"
    }
   },
   "outputs": [],
   "source": [
    "torch.zeros(2, 3, 4)"
   ]
  },
  {
   "cell_type": "code",
   "execution_count": null,
   "id": "55f1a781b4e7de54",
   "metadata": {
    "ExecuteTime": {
     "end_time": "2024-07-01T08:38:38.075563Z",
     "start_time": "2024-07-01T08:38:38.069892Z"
    }
   },
   "outputs": [],
   "source": [
    "torch.randn(3, 4)"
   ]
  },
  {
   "cell_type": "markdown",
   "id": "79e0d4a57ab66727",
   "metadata": {},
   "source": [
    "- 广义运算符"
   ]
  },
  {
   "cell_type": "code",
   "execution_count": null,
   "id": "7cfa2034e4b350f7",
   "metadata": {
    "ExecuteTime": {
     "end_time": "2024-07-01T08:38:38.093520Z",
     "start_time": "2024-07-01T08:38:38.084612Z"
    }
   },
   "outputs": [],
   "source": [
    "x = torch.tensor([1.0, 2, 4, 8])\n",
    "y = torch.tensor([2, 2, 2, 2])\n",
    "(x + y, x - y, x / y, x * y, x ** y)"
   ]
  },
  {
   "cell_type": "code",
   "execution_count": null,
   "id": "e2de9bae150599ee",
   "metadata": {
    "ExecuteTime": {
     "end_time": "2024-07-01T08:38:38.103866Z",
     "start_time": "2024-07-01T08:38:38.095033Z"
    }
   },
   "outputs": [],
   "source": [
    "x = torch.arange(12, dtype=torch.float32).reshape(3, 4)\n",
    "y = torch.tensor([[2.0, 1, 4, 3], [1, 2, 3, 4], [4, 3, 2, 1]])\n",
    "\n",
    "torch.cat((x, y), dim=0), torch.cat((x, y), dim=1)"
   ]
  },
  {
   "cell_type": "code",
   "execution_count": null,
   "id": "69706703e60a3a7c",
   "metadata": {
    "ExecuteTime": {
     "end_time": "2024-07-01T08:38:38.111279Z",
     "start_time": "2024-07-01T08:38:38.105876Z"
    }
   },
   "outputs": [],
   "source": [
    "x==y"
   ]
  },
  {
   "cell_type": "code",
   "execution_count": null,
   "id": "cf0f8f8dae2ed130",
   "metadata": {
    "ExecuteTime": {
     "end_time": "2024-07-01T08:38:38.118278Z",
     "start_time": "2024-07-01T08:38:38.112285Z"
    }
   },
   "outputs": [],
   "source": [
    "x.sum()"
   ]
  }
 ],
 "metadata": {
  "kernelspec": {
   "display_name": "Python 3 (ipykernel)",
   "language": "python",
   "name": "python3"
  }
 },
 "nbformat": 4,
 "nbformat_minor": 5
}
