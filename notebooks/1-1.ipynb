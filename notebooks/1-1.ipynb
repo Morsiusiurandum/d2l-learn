{
 "cells": [
  {
   "metadata": {},
   "cell_type": "markdown",
   "source": "# 预备知识",
   "id": "11c992b656b2d46a"
  },
  {
   "metadata": {},
   "cell_type": "markdown",
   "source": "- 对张量的基本操作",
   "id": "8a77807f92f26ee"
  },
  {
   "metadata": {
    "ExecuteTime": {
     "end_time": "2024-07-01T08:38:38.010297Z",
     "start_time": "2024-07-01T08:38:38.003128Z"
    }
   },
   "cell_type": "code",
   "source": [
    "import torch\n",
    "\n",
    "x = torch.arange(12)\n",
    "x"
   ],
   "id": "fbc121e30a2defb3",
   "outputs": [
    {
     "data": {
      "text/plain": [
       "tensor([ 0,  1,  2,  3,  4,  5,  6,  7,  8,  9, 10, 11])"
      ]
     },
     "execution_count": 14,
     "metadata": {},
     "output_type": "execute_result"
    }
   ],
   "execution_count": 14
  },
  {
   "metadata": {
    "ExecuteTime": {
     "end_time": "2024-07-01T08:38:38.016879Z",
     "start_time": "2024-07-01T08:38:38.011307Z"
    }
   },
   "cell_type": "code",
   "source": "x.reshape(3, 4)",
   "id": "96ed6a697d527122",
   "outputs": [
    {
     "data": {
      "text/plain": [
       "tensor([[ 0,  1,  2,  3],\n",
       "        [ 4,  5,  6,  7],\n",
       "        [ 8,  9, 10, 11]])"
      ]
     },
     "execution_count": 15,
     "metadata": {},
     "output_type": "execute_result"
    }
   ],
   "execution_count": 15
  },
  {
   "metadata": {},
   "cell_type": "markdown",
   "source": "- 使用特定发布初始化张量\n",
   "id": "be75215a4ed0e340"
  },
  {
   "metadata": {
    "ExecuteTime": {
     "end_time": "2024-07-01T08:38:38.033234Z",
     "start_time": "2024-07-01T08:38:38.027886Z"
    }
   },
   "cell_type": "code",
   "source": "torch.zeros(2, 3, 4)",
   "id": "b1fbbe0229efb170",
   "outputs": [
    {
     "data": {
      "text/plain": [
       "tensor([[[0., 0., 0., 0.],\n",
       "         [0., 0., 0., 0.],\n",
       "         [0., 0., 0., 0.]],\n",
       "\n",
       "        [[0., 0., 0., 0.],\n",
       "         [0., 0., 0., 0.],\n",
       "         [0., 0., 0., 0.]]])"
      ]
     },
     "execution_count": 16,
     "metadata": {},
     "output_type": "execute_result"
    }
   ],
   "execution_count": 16
  },
  {
   "metadata": {
    "ExecuteTime": {
     "end_time": "2024-07-01T08:38:38.075563Z",
     "start_time": "2024-07-01T08:38:38.069892Z"
    }
   },
   "cell_type": "code",
   "source": "torch.randn(3, 4)",
   "id": "55f1a781b4e7de54",
   "outputs": [
    {
     "data": {
      "text/plain": [
       "tensor([[-1.0446,  1.2242,  0.3524, -1.8085],\n",
       "        [-1.4028, -1.2659,  0.8680,  1.4585],\n",
       "        [-0.6416,  0.1475, -0.8512,  0.3330]])"
      ]
     },
     "execution_count": 17,
     "metadata": {},
     "output_type": "execute_result"
    }
   ],
   "execution_count": 17
  },
  {
   "metadata": {},
   "cell_type": "markdown",
   "source": "- 广义运算符",
   "id": "79e0d4a57ab66727"
  },
  {
   "metadata": {
    "ExecuteTime": {
     "end_time": "2024-07-01T08:38:38.093520Z",
     "start_time": "2024-07-01T08:38:38.084612Z"
    }
   },
   "cell_type": "code",
   "source": [
    "x = torch.tensor([1.0, 2, 4, 8])\n",
    "y = torch.tensor([2, 2, 2, 2])\n",
    "(x + y, x - y, x / y, x * y, x ** y)"
   ],
   "id": "7cfa2034e4b350f7",
   "outputs": [
    {
     "data": {
      "text/plain": [
       "(tensor([ 3.,  4.,  6., 10.]),\n",
       " tensor([-1.,  0.,  2.,  6.]),\n",
       " tensor([0.5000, 1.0000, 2.0000, 4.0000]),\n",
       " tensor([ 2.,  4.,  8., 16.]),\n",
       " tensor([ 1.,  4., 16., 64.]))"
      ]
     },
     "execution_count": 18,
     "metadata": {},
     "output_type": "execute_result"
    }
   ],
   "execution_count": 18
  },
  {
   "metadata": {
    "ExecuteTime": {
     "end_time": "2024-07-01T08:38:38.103866Z",
     "start_time": "2024-07-01T08:38:38.095033Z"
    }
   },
   "cell_type": "code",
   "source": [
    "x = torch.arange(12, dtype=torch.float32).reshape(3, 4)\n",
    "y = torch.tensor([[2.0, 1, 4, 3], [1, 2, 3, 4], [4, 3, 2, 1]])\n",
    "\n",
    "torch.cat((x, y), dim=0), torch.cat((x, y), dim=1)"
   ],
   "id": "e2de9bae150599ee",
   "outputs": [
    {
     "data": {
      "text/plain": [
       "(tensor([[ 0.,  1.,  2.,  3.],\n",
       "         [ 4.,  5.,  6.,  7.],\n",
       "         [ 8.,  9., 10., 11.],\n",
       "         [ 2.,  1.,  4.,  3.],\n",
       "         [ 1.,  2.,  3.,  4.],\n",
       "         [ 4.,  3.,  2.,  1.]]),\n",
       " tensor([[ 0.,  1.,  2.,  3.,  2.,  1.,  4.,  3.],\n",
       "         [ 4.,  5.,  6.,  7.,  1.,  2.,  3.,  4.],\n",
       "         [ 8.,  9., 10., 11.,  4.,  3.,  2.,  1.]]))"
      ]
     },
     "execution_count": 19,
     "metadata": {},
     "output_type": "execute_result"
    }
   ],
   "execution_count": 19
  },
  {
   "metadata": {
    "ExecuteTime": {
     "end_time": "2024-07-01T08:38:38.111279Z",
     "start_time": "2024-07-01T08:38:38.105876Z"
    }
   },
   "cell_type": "code",
   "source": "x==y",
   "id": "69706703e60a3a7c",
   "outputs": [
    {
     "data": {
      "text/plain": [
       "tensor([[False,  True, False,  True],\n",
       "        [False, False, False, False],\n",
       "        [False, False, False, False]])"
      ]
     },
     "execution_count": 20,
     "metadata": {},
     "output_type": "execute_result"
    }
   ],
   "execution_count": 20
  },
  {
   "metadata": {
    "ExecuteTime": {
     "end_time": "2024-07-01T08:38:38.118278Z",
     "start_time": "2024-07-01T08:38:38.112285Z"
    }
   },
   "cell_type": "code",
   "source": "x.sum()",
   "id": "cf0f8f8dae2ed130",
   "outputs": [
    {
     "data": {
      "text/plain": [
       "tensor(66.)"
      ]
     },
     "execution_count": 21,
     "metadata": {},
     "output_type": "execute_result"
    }
   ],
   "execution_count": 21
  }
 ],
 "metadata": {
  "kernelspec": {
   "display_name": "Python 3",
   "language": "python",
   "name": "python3"
  },
  "language_info": {
   "codemirror_mode": {
    "name": "ipython",
    "version": 2
   },
   "file_extension": ".py",
   "mimetype": "text/x-python",
   "name": "python",
   "nbconvert_exporter": "python",
   "pygments_lexer": "ipython2",
   "version": "2.7.6"
  }
 },
 "nbformat": 4,
 "nbformat_minor": 5
}
